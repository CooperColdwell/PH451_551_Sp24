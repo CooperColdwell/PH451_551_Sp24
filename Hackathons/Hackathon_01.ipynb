{
  "cells": [
    {
      "cell_type": "markdown",
      "metadata": {
        "id": "view-in-github",
        "colab_type": "text"
      },
      "source": [
        "<a href=\"https://colab.research.google.com/github/UAPH451551/PH451_551_Sp24/blob/main/Hackathons/Hackathon_01.ipynb\" target=\"_parent\"><img src=\"https://colab.research.google.com/assets/colab-badge.svg\" alt=\"Open In Colab\"/></a>"
      ]
    },
    {
      "cell_type": "markdown",
      "source": [
        "# Hackathon #1 Spring 2024"
      ],
      "metadata": {
        "id": "z_Q2zzcSdmsu"
      }
    },
    {
      "cell_type": "markdown",
      "metadata": {
        "id": "T4kV4R6SDR8X"
      },
      "source": [
        "**Background:** High-energy collisions at the Large Hadron Collider (LHC) <br> produce particles that interact with particle detectors. One important task is <br>\n",
        "to classify different types of collisions based on their physics content,<br> allowing physicists to find patterns in the data and to potentially unravel new <br> discoveries."
      ]
    },
    {
      "cell_type": "markdown",
      "metadata": {
        "id": "fHw_uCCcHJqn"
      },
      "source": [
        "**Problem statement:** The discovery of the Higgs boson by CMS and ATLAS <br>\n",
        "Collaborations was announced at CERN in 2012. In this challenge, we will use <br>\n",
        "machine learning to classify events containing Higgs bosons from the background <br>\n",
        "events which do not contain Higgs bosons."
      ]
    },
    {
      "cell_type": "markdown",
      "metadata": {
        "id": "qAJnE-4uANmP"
      },
      "source": [
        "**Dataset:** The dataset is hosted by the Center for Machine Learning  <br>\n",
        "and Intelligent Systems at University of California, Irvine. <br>\n",
        "The dataset can be found on the [UCI Machine learning Repository](https://archive.ics.uci.edu/ml/datasets/HIGGS)"
      ]
    },
    {
      "cell_type": "markdown",
      "metadata": {
        "id": "5u1kJGUdAZ9m"
      },
      "source": [
        "**Description:** The dataset consists of a total of 11 million labeled samples <br>\n",
        "of Higgs and background events produced by Monte Carlo simulations. Each sample <br>\n",
        "consists of 28 features. The first 21 features are kinematic properties <br>\n",
        "of the events. The last seven are functions of the first 21. The data labels <br>\n",
        "are 1 for signal (an event with Higgs bosons) and 0 for background (an event <br>\n",
        "without Higgs bosons)."
      ]
    },
    {
      "cell_type": "markdown",
      "metadata": {
        "id": "myu16dmzSBmo"
      },
      "source": [
        "**Steps to load the training dataset**\n",
        "1. Download the dataset from the UCI website."
      ]
    },
    {
      "cell_type": "code",
      "execution_count": null,
      "metadata": {
        "colab": {
          "base_uri": "https://localhost:8080/"
        },
        "id": "mrM-WOaxRWsP",
        "outputId": "33a89959-a09f-441c-8cc1-9ba38e713f96"
      },
      "outputs": [
        {
          "output_type": "stream",
          "name": "stdout",
          "text": [
            "--2024-02-05 21:12:10--  https://archive.ics.uci.edu/ml/machine-learning-databases/00280/HIGGS.csv.gz\n",
            "Resolving archive.ics.uci.edu (archive.ics.uci.edu)... 128.195.10.252\n",
            "Connecting to archive.ics.uci.edu (archive.ics.uci.edu)|128.195.10.252|:443... connected.\n",
            "HTTP request sent, awaiting response... 200 OK\n",
            "Length: unspecified\n",
            "Saving to: ‘HIGGS.csv.gz’\n",
            "\n",
            "HIGGS.csv.gz            [ <=>                ]   2.62G  59.6MB/s    in 48s     \n",
            "\n",
            "2024-02-05 21:12:58 (55.8 MB/s) - ‘HIGGS.csv.gz’ saved [2816407858]\n",
            "\n"
          ]
        }
      ],
      "source": [
        "!wget https://archive.ics.uci.edu/ml/machine-learning-databases/00280/HIGGS.csv.gz"
      ]
    },
    {
      "cell_type": "markdown",
      "metadata": {
        "id": "0xHJtIbPVT-n"
      },
      "source": [
        "2. Unzip the dataset folder"
      ]
    },
    {
      "cell_type": "code",
      "execution_count": null,
      "metadata": {
        "id": "2J3v5kgbSrjx"
      },
      "outputs": [],
      "source": [
        " !gzip -d HIGGS.csv.gz"
      ]
    },
    {
      "cell_type": "code",
      "execution_count": null,
      "metadata": {
        "id": "MUE2QepFVwEq"
      },
      "outputs": [],
      "source": [
        "from sklearn.model_selection import train_test_split\n",
        "import pandas as pd\n",
        "import numpy as np\n",
        "np.random.seed(1337)  # for reproducibility\n",
        "import matplotlib.pyplot as plt"
      ]
    },
    {
      "cell_type": "markdown",
      "metadata": {
        "id": "4GDeVfB04Qe4"
      },
      "source": [
        "**Load the file using pandas library**"
      ]
    },
    {
      "cell_type": "code",
      "execution_count": null,
      "metadata": {
        "id": "Jxfnd8shK0vq"
      },
      "outputs": [],
      "source": [
        "data = pd.read_csv('./HIGGS.csv', header=None)"
      ]
    },
    {
      "cell_type": "markdown",
      "metadata": {
        "id": "ZTnbxdjkUp73"
      },
      "source": [
        "The first column is the labels (y). The other columns are all of our inputs (X).\n",
        "\n",
        "The above dataset is a pandas dataframe. We can access the data using iloc. <br>\n",
        "After that, we can turn it into a numpy array if we want or leave it as a <br>\n",
        "pandas dataframe. **Use whatever you feel most comfortable with**.\n"
      ]
    },
    {
      "cell_type": "code",
      "execution_count": null,
      "metadata": {
        "id": "hoRPhH9dNmCy"
      },
      "outputs": [],
      "source": [
        "X = data.iloc[:,1:]\n",
        "y = data.iloc[:,0]\n",
        "#X = X.to_numpy(dtype=float) #Convert pandas dataframe to numpy array (optional)\n",
        "#y = y.to_numpy(dtype=int)   #Convert pandas dataframe to numpy array (optional)"
      ]
    },
    {
      "cell_type": "code",
      "source": [
        "print(X.shape)"
      ],
      "metadata": {
        "colab": {
          "base_uri": "https://localhost:8080/"
        },
        "id": "XYHGU33UgViE",
        "outputId": "31f156d7-c1eb-4b4f-a9b8-35af970dbf7d"
      },
      "execution_count": null,
      "outputs": [
        {
          "output_type": "stream",
          "name": "stdout",
          "text": [
            "(11000000, 28)\n"
          ]
        }
      ]
    },
    {
      "cell_type": "markdown",
      "source": [
        "To generate the following examples we used a smaller dataset containing only <br>\n",
        "10,000 events. You may want to do something similar while getting your code <br>\n",
        "set up but you should eventually use the full dataset.\n",
        "\n",
        "**For final hackathon task submissions you should use the full dataset.**"
      ],
      "metadata": {
        "id": "r6-xG2T41Qkv"
      }
    },
    {
      "cell_type": "code",
      "source": [
        "#X = X[:11000]\n",
        "#y = y[:11000]"
      ],
      "metadata": {
        "id": "V-7QmHPK1Oe1"
      },
      "execution_count": null,
      "outputs": []
    },
    {
      "cell_type": "code",
      "source": [
        "plt.hist(X.iloc[:,0], bins=30)\n",
        "plt.title(\"lepton pT\")\n",
        "plt.xlabel(\"lepton pT\")\n",
        "plt.ylabel(\"number of events\")\n",
        "plt.show()"
      ],
      "metadata": {
        "colab": {
          "base_uri": "https://localhost:8080/",
          "height": 472
        },
        "id": "pz3F8doFfuvn",
        "outputId": "58d7003a-92ef-410a-9dec-02f2f9c3c763"
      },
      "execution_count": null,
      "outputs": [
        {
          "output_type": "display_data",
          "data": {
            "text/plain": [
              "<Figure size 640x480 with 1 Axes>"
            ],
            "image/png": "[encoded data removed]"
          },
          "metadata": {}
        }
      ]
    },
    {
      "cell_type": "markdown",
      "metadata": {
        "id": "hQX3GUrVUe7N"
      },
      "source": [
        "Next we can split our data into 80% training data, 10% validation data, 10% <br>\n",
        "test data.\n",
        "\n",
        "For the rest of this hackathon, use `X_train`, `X_val`, `X_test` as input <br>\n",
        "data and `y_train`, `y_val`, `y_test` as output data."
      ]
    },
    {
      "cell_type": "code",
      "execution_count": null,
      "metadata": {
        "id": "50-8I-fj8jC7"
      },
      "outputs": [],
      "source": [
        "X_train, X_val1, y_train, y_val1 = train_test_split(X, y, test_size=0.2, random_state=42)\n",
        "X_val, X_test, y_val, y_test = train_test_split(X_val1, y_val1, test_size=0.5, random_state=42)"
      ]
    },
    {
      "cell_type": "code",
      "source": [
        "print(X_train.shape)\n",
        "print(X_val.shape)\n",
        "print(X_test.shape)\n",
        "print(y_train.shape)\n",
        "print(y_val.shape)\n",
        "print(y_test.shape)"
      ],
      "metadata": {
        "colab": {
          "base_uri": "https://localhost:8080/"
        },
        "id": "o856c_zDfJ-S",
        "outputId": "50281608-29b2-4f72-a408-0b4ae7e7d1e4"
      },
      "execution_count": null,
      "outputs": [
        {
          "output_type": "stream",
          "name": "stdout",
          "text": [
            "(8800000, 28)\n",
            "(1100000, 28)\n",
            "(1100000, 28)\n",
            "(8800000,)\n",
            "(1100000,)\n",
            "(1100000,)\n"
          ]
        }
      ]
    },
    {
      "cell_type": "markdown",
      "source": [
        "## **REMINDER: Use the Higgs dataset provided above for the Hackathon**"
      ],
      "metadata": {
        "id": "ld4APrANmSJ6"
      }
    },
    {
      "cell_type": "markdown",
      "metadata": {
        "id": "PexwSVQ34M_l"
      },
      "source": [
        "## Hackathon Task 1:\n",
        "\n",
        "Data: `X_train`\n",
        "\n",
        "Generate histograms of the different variables in `X_train` with proper axis <br>\n",
        "labels and titles.\n",
        "\n",
        "Detailed information on what each feature column is can be found in <br> *Attribute Information* section on the [UCI Machine learning Repository](https://archive.ics.uci.edu/ml/datasets/HIGGS). <br>\n",
        "For further information, refer to the [paper](https://www.nature.com/articles/ncomms5308) by Baldi et. al\n",
        "\n",
        "**Hint:** The first item is lepton pT.\n",
        "\n",
        "The following may be helpful:\n",
        "\n",
        "`names = [\"lepton pT\", \"lepton eta\", \"lepton phi\", \"missing energy magnitude\",` <br>\n",
        "`\"missing energy phi\", \"jet 1 pt\", \"jet 1 eta\", \"jet 1 phi\", \"jet 1 b-tag\",` <br>\n",
        "`\"jet 2 pt\", \"jet 2 eta\",\"jet 2 phi\", \"jet 2 b-tag\", \"jet 3 pt\", \"jet 3 eta\",` <br>\n",
        "`\"jet 3 phi\", \"jet 3 b-tag\", \"jet 4 pt\", \"jet 4 eta\", \"jet 4 phi\", \"jet 4 b-tag\",`<br>` \"m_jj\", \"m_jjj\", \"m_lv\", \"m_jlv\", \"m_bb\", \"m_wbb\", \"m_wwbb\"]`\n",
        "\n",
        "`for index, name in enumerate(names):`"
      ]
    },
    {
      "cell_type": "markdown",
      "metadata": {
        "id": "DBJaFEoGApL5"
      },
      "source": [
        "## Hackathon Task 2:\n",
        "\n",
        "Data: `X_train`, `y_train`, `X_val`, `y_val`\n",
        "\n",
        "Train a model by fitting it to the training data. Use at least one metric <br>\n",
        "such as roc_auc_score, accuracy, etc. to analyze the model's performance on the <br>\n",
        "validation data. Using that performance metric, optimize or improve your model. <br>\n",
        "It should be clear from your notebook how you perform this optimization."
      ]
    },
    {
      "cell_type": "markdown",
      "source": [
        "## Hackathon Task 3:\n",
        "\n",
        "Data: `X_test`, `y_test`\n",
        "\n",
        "**Note: The test data should be used only for final performance evaluation.** <br>\n",
        "**Validation data can be used to tune your model but test data should not be** <br>\n",
        "**used for model tuning.**\n",
        "\n",
        "Without having done any optimization using the testing data set, analyze the <br>\n",
        "performance of the model on the testing data. Your analysis should include <br> [roc_auc_score](https://scikit-learn.org/stable/modules/generated/sklearn.metrics.roc_auc_score.html), a ROC curve plot\n",
        "(see [1](https://plot-metric.readthedocs.io/en/latest/), [2](https://github.com/UAPH451551/PH451_551_Sp23/blob/main/Exercises/Statistics_1.ipynb), [3](https://github.com/UAPH451551/PH451_551_Sp23/blob/main/Exercises/01_Classification.ipynb)), and at least one other plot of <br>\n",
        "your choice such as precision-recall curves, confusion matrix, etc.\n"
      ],
      "metadata": {
        "id": "G3t0NHGQa-yb"
      }
    },
    {
      "cell_type": "markdown",
      "source": [
        "# Deliverables:\n",
        "\n",
        "**Reminder: The hackathon tasks should be done using the Higgs dataset.** <br>\n",
        "A pdf of the notebook with all three hackathon tasks completed. <br>\n",
        "A copy of your colab/jupyter notebook with all three hackathon tasks completed. <br>\n",
        "\n",
        "\n",
        "File name convention: For group 42 and memebers Richard Stallman and Linus <br>\n",
        "Torvalds it would be \"Hackathon1_42_Stallman_Torvalds.pdf\" and  <br>\n",
        "\"Hackathon1_42_Stallman_Torvalds.ipynb\".\n",
        "\n",
        "Submission via blackboard (UA)."
      ],
      "metadata": {
        "id": "9euTzbAUy1ty"
      }
    },
    {
      "cell_type": "markdown",
      "source": [
        "# Examples\n",
        "\n",
        "### The examples below use a different dataset (breast cancer diagnosis dataset)\n",
        "### than what is provided above.\n",
        "### Please use the Higgs data set for the hackathon.\n",
        "\n",
        "**Note: The following examples are meant to provide a starting point. You are** <br>\n",
        "**encouraged to get creative. Feel free to look back to earlier assignments for** <br>\n",
        "**inspiration and code examples.**"
      ],
      "metadata": {
        "id": "cYXn_2LHe5kv"
      }
    },
    {
      "cell_type": "markdown",
      "source": [
        "## Decision Tree Example"
      ],
      "metadata": {
        "id": "yGXUxuiMY4Uc"
      }
    },
    {
      "cell_type": "code",
      "source": [
        "from sklearn.ensemble import AdaBoostClassifier\n",
        "from sklearn.metrics import accuracy_score\n",
        "from sklearn.tree import DecisionTreeClassifier\n",
        "from sklearn.metrics import confusion_matrix\n",
        "from sklearn.datasets import load_breast_cancer\n",
        "from sklearn.model_selection import train_test_split"
      ],
      "metadata": {
        "id": "2YCd_u1aWj7N"
      },
      "execution_count": null,
      "outputs": []
    },
    {
      "cell_type": "code",
      "source": [
        "dataset = load_breast_cancer() #Use the Higgs dataset for the hackathon\n",
        "X = dataset[\"data\"]\n",
        "y = dataset[\"target\"]"
      ],
      "metadata": {
        "id": "jNkp9ozCXClU"
      },
      "execution_count": null,
      "outputs": []
    },
    {
      "cell_type": "code",
      "source": [
        "print(X.shape)\n",
        "print(y.shape)"
      ],
      "metadata": {
        "colab": {
          "base_uri": "https://localhost:8080/"
        },
        "id": "tNUQzTOQZfdj",
        "outputId": "9a810704-47c9-4f82-f147-99d6c8b414dc"
      },
      "execution_count": null,
      "outputs": [
        {
          "output_type": "stream",
          "name": "stdout",
          "text": [
            "(569, 30)\n",
            "(569,)\n"
          ]
        }
      ]
    },
    {
      "cell_type": "code",
      "source": [
        "X_train, X_test, y_train, y_test = train_test_split(X, y, test_size=0.3, random_state=42)"
      ],
      "metadata": {
        "id": "YxGxtdyZW-7F"
      },
      "execution_count": null,
      "outputs": []
    },
    {
      "cell_type": "code",
      "source": [
        "classifier = AdaBoostClassifier(\n",
        "    DecisionTreeClassifier(max_depth=1),\n",
        "    n_estimators=200,\n",
        "    random_state=42\n",
        ")"
      ],
      "metadata": {
        "id": "NYF4jBySWprd"
      },
      "execution_count": null,
      "outputs": []
    },
    {
      "cell_type": "code",
      "source": [
        "classifier.fit(X_train, y_train)"
      ],
      "metadata": {
        "colab": {
          "base_uri": "https://localhost:8080/",
          "height": 118
        },
        "id": "ahZQZ4smWxU3",
        "outputId": "d7c11897-3b4b-4878-bec7-a989608af93a"
      },
      "execution_count": null,
      "outputs": [
        {
          "output_type": "execute_result",
          "data": {
            "text/plain": [
              "AdaBoostClassifier(estimator=DecisionTreeClassifier(max_depth=1),\n",
              "                   n_estimators=200, random_state=42)"
            ],
            "text/html": [
              "<style>#sk-container-id-2 {color: black;background-color: white;}#sk-container-id-2 pre{padding: 0;}#sk-container-id-2 div.sk-toggleable {background-color: white;}#sk-container-id-2 label.sk-toggleable__label {cursor: pointer;display: block;width: 100%;margin-bottom: 0;padding: 0.3em;box-sizing: border-box;text-align: center;}#sk-container-id-2 label.sk-toggleable__label-arrow:before {content: \"▸\";float: left;margin-right: 0.25em;color: #696969;}#sk-container-id-2 label.sk-toggleable__label-arrow:hover:before {color: black;}#sk-container-id-2 div.sk-estimator:hover label.sk-toggleable__label-arrow:before {color: black;}#sk-container-id-2 div.sk-toggleable__content {max-height: 0;max-width: 0;overflow: hidden;text-align: left;background-color: #f0f8ff;}#sk-container-id-2 div.sk-toggleable__content pre {margin: 0.2em;color: black;border-radius: 0.25em;background-color: #f0f8ff;}#sk-container-id-2 input.sk-toggleable__control:checked~div.sk-toggleable__content {max-height: 200px;max-width: 100%;overflow: auto;}#sk-container-id-2 input.sk-toggleable__control:checked~label.sk-toggleable__label-arrow:before {content: \"▾\";}#sk-container-id-2 div.sk-estimator input.sk-toggleable__control:checked~label.sk-toggleable__label {background-color: #d4ebff;}#sk-container-id-2 div.sk-label input.sk-toggleable__control:checked~label.sk-toggleable__label {background-color: #d4ebff;}#sk-container-id-2 input.sk-hidden--visually {border: 0;clip: rect(1px 1px 1px 1px);clip: rect(1px, 1px, 1px, 1px);height: 1px;margin: -1px;overflow: hidden;padding: 0;position: absolute;width: 1px;}#sk-container-id-2 div.sk-estimator {font-family: monospace;background-color: #f0f8ff;border: 1px dotted black;border-radius: 0.25em;box-sizing: border-box;margin-bottom: 0.5em;}#sk-container-id-2 div.sk-estimator:hover {background-color: #d4ebff;}#sk-container-id-2 div.sk-parallel-item::after {content: \"\";width: 100%;border-bottom: 1px solid gray;flex-grow: 1;}#sk-container-id-2 div.sk-label:hover label.sk-toggleable__label {background-color: #d4ebff;}#sk-container-id-2 div.sk-serial::before {content: \"\";position: absolute;border-left: 1px solid gray;box-sizing: border-box;top: 0;bottom: 0;left: 50%;z-index: 0;}#sk-container-id-2 div.sk-serial {display: flex;flex-direction: column;align-items: center;background-color: white;padding-right: 0.2em;padding-left: 0.2em;position: relative;}#sk-container-id-2 div.sk-item {position: relative;z-index: 1;}#sk-container-id-2 div.sk-parallel {display: flex;align-items: stretch;justify-content: center;background-color: white;position: relative;}#sk-container-id-2 div.sk-item::before, #sk-container-id-2 div.sk-parallel-item::before {content: \"\";position: absolute;border-left: 1px solid gray;box-sizing: border-box;top: 0;bottom: 0;left: 50%;z-index: -1;}#sk-container-id-2 div.sk-parallel-item {display: flex;flex-direction: column;z-index: 1;position: relative;background-color: white;}#sk-container-id-2 div.sk-parallel-item:first-child::after {align-self: flex-end;width: 50%;}#sk-container-id-2 div.sk-parallel-item:last-child::after {align-self: flex-start;width: 50%;}#sk-container-id-2 div.sk-parallel-item:only-child::after {width: 0;}#sk-container-id-2 div.sk-dashed-wrapped {border: 1px dashed gray;margin: 0 0.4em 0.5em 0.4em;box-sizing: border-box;padding-bottom: 0.4em;background-color: white;}#sk-container-id-2 div.sk-label label {font-family: monospace;font-weight: bold;display: inline-block;line-height: 1.2em;}#sk-container-id-2 div.sk-label-container {text-align: center;}#sk-container-id-2 div.sk-container {/* jupyter's `normalize.less` sets `[hidden] { display: none; }` but bootstrap.min.css set `[hidden] { display: none !important; }` so we also need the `!important` here to be able to override the default hidden behavior on the sphinx rendered scikit-learn.org. See: https://github.com/scikit-learn/scikit-learn/issues/21755 */display: inline-block !important;position: relative;}#sk-container-id-2 div.sk-text-repr-fallback {display: none;}</style><div id=\"sk-container-id-2\" class=\"sk-top-container\"><div class=\"sk-text-repr-fallback\"><pre>AdaBoostClassifier(estimator=DecisionTreeClassifier(max_depth=1),\n",
              "                   n_estimators=200, random_state=42)</pre><b>In a Jupyter environment, please rerun this cell to show the HTML representation or trust the notebook. <br />On GitHub, the HTML representation is unable to render, please try loading this page with nbviewer.org.</b></div><div class=\"sk-container\" hidden><div class=\"sk-item sk-dashed-wrapped\"><div class=\"sk-label-container\"><div class=\"sk-label sk-toggleable\"><input class=\"sk-toggleable__control sk-hidden--visually\" id=\"sk-estimator-id-4\" type=\"checkbox\" ><label for=\"sk-estimator-id-4\" class=\"sk-toggleable__label sk-toggleable__label-arrow\">AdaBoostClassifier</label><div class=\"sk-toggleable__content\"><pre>AdaBoostClassifier(estimator=DecisionTreeClassifier(max_depth=1),\n",
              "                   n_estimators=200, random_state=42)</pre></div></div></div><div class=\"sk-parallel\"><div class=\"sk-parallel-item\"><div class=\"sk-item\"><div class=\"sk-label-container\"><div class=\"sk-label sk-toggleable\"><input class=\"sk-toggleable__control sk-hidden--visually\" id=\"sk-estimator-id-5\" type=\"checkbox\" ><label for=\"sk-estimator-id-5\" class=\"sk-toggleable__label sk-toggleable__label-arrow\">estimator: DecisionTreeClassifier</label><div class=\"sk-toggleable__content\"><pre>DecisionTreeClassifier(max_depth=1)</pre></div></div></div><div class=\"sk-serial\"><div class=\"sk-item\"><div class=\"sk-estimator sk-toggleable\"><input class=\"sk-toggleable__control sk-hidden--visually\" id=\"sk-estimator-id-6\" type=\"checkbox\" ><label for=\"sk-estimator-id-6\" class=\"sk-toggleable__label sk-toggleable__label-arrow\">DecisionTreeClassifier</label><div class=\"sk-toggleable__content\"><pre>DecisionTreeClassifier(max_depth=1)</pre></div></div></div></div></div></div></div></div></div></div>"
            ]
          },
          "metadata": {},
          "execution_count": 317
        }
      ]
    },
    {
      "cell_type": "code",
      "source": [
        "predictions = classifier.predict(X_test)"
      ],
      "metadata": {
        "id": "dKOvAzrdWzBu"
      },
      "execution_count": null,
      "outputs": []
    },
    {
      "cell_type": "code",
      "source": [
        "y_hat = classifier.predict_proba(X_test)[:, 1]"
      ],
      "metadata": {
        "id": "VwzQdVKEW3EP"
      },
      "execution_count": null,
      "outputs": []
    },
    {
      "cell_type": "code",
      "source": [
        "confusion_matrix(y_test, predictions)"
      ],
      "metadata": {
        "colab": {
          "base_uri": "https://localhost:8080/"
        },
        "id": "PTgawZpIW5-P",
        "outputId": "82abc5e6-daec-410e-eaef-5d1aa8370bb9"
      },
      "execution_count": null,
      "outputs": [
        {
          "output_type": "execute_result",
          "data": {
            "text/plain": [
              "array([[ 62,   1],\n",
              "       [  2, 106]])"
            ]
          },
          "metadata": {},
          "execution_count": 320
        }
      ]
    },
    {
      "cell_type": "code",
      "source": [
        "accuracy_score(y_test, predictions)"
      ],
      "metadata": {
        "colab": {
          "base_uri": "https://localhost:8080/"
        },
        "id": "Vj8aIHQVZWQY",
        "outputId": "d50115d3-e23c-4294-a974-833d3f4501e6"
      },
      "execution_count": null,
      "outputs": [
        {
          "output_type": "execute_result",
          "data": {
            "text/plain": [
              "0.9824561403508771"
            ]
          },
          "metadata": {},
          "execution_count": 321
        }
      ]
    },
    {
      "cell_type": "code",
      "source": [
        "!pip install plot_metric"
      ],
      "metadata": {
        "colab": {
          "base_uri": "https://localhost:8080/"
        },
        "id": "g5U62A3WXsV6",
        "outputId": "17b18b35-e206-4185-d420-7210e89d15ef"
      },
      "execution_count": null,
      "outputs": [
        {
          "output_type": "stream",
          "name": "stdout",
          "text": [
            "Requirement already satisfied: plot_metric in /usr/local/lib/python3.10/dist-packages (0.0.6)\n",
            "Requirement already satisfied: scipy>=1.1.0 in /usr/local/lib/python3.10/dist-packages (from plot_metric) (1.11.4)\n",
            "Requirement already satisfied: matplotlib>=3.0.2 in /usr/local/lib/python3.10/dist-packages (from plot_metric) (3.7.1)\n",
            "Requirement already satisfied: colorlover>=0.3.0 in /usr/local/lib/python3.10/dist-packages (from plot_metric) (0.3.0)\n",
            "Requirement already satisfied: pandas>=0.23.4 in /usr/local/lib/python3.10/dist-packages (from plot_metric) (1.5.3)\n",
            "Requirement already satisfied: seaborn>=0.9.0 in /usr/local/lib/python3.10/dist-packages (from plot_metric) (0.13.1)\n",
            "Requirement already satisfied: numpy>=1.15.4 in /usr/local/lib/python3.10/dist-packages (from plot_metric) (1.23.5)\n",
            "Requirement already satisfied: scikit-learn>=0.21.2 in /usr/local/lib/python3.10/dist-packages (from plot_metric) (1.2.2)\n",
            "Requirement already satisfied: contourpy>=1.0.1 in /usr/local/lib/python3.10/dist-packages (from matplotlib>=3.0.2->plot_metric) (1.2.0)\n",
            "Requirement already satisfied: cycler>=0.10 in /usr/local/lib/python3.10/dist-packages (from matplotlib>=3.0.2->plot_metric) (0.12.1)\n",
            "Requirement already satisfied: fonttools>=4.22.0 in /usr/local/lib/python3.10/dist-packages (from matplotlib>=3.0.2->plot_metric) (4.47.2)\n",
            "Requirement already satisfied: kiwisolver>=1.0.1 in /usr/local/lib/python3.10/dist-packages (from matplotlib>=3.0.2->plot_metric) (1.4.5)\n",
            "Requirement already satisfied: packaging>=20.0 in /usr/local/lib/python3.10/dist-packages (from matplotlib>=3.0.2->plot_metric) (23.2)\n",
            "Requirement already satisfied: pillow>=6.2.0 in /usr/local/lib/python3.10/dist-packages (from matplotlib>=3.0.2->plot_metric) (9.4.0)\n",
            "Requirement already satisfied: pyparsing>=2.3.1 in /usr/local/lib/python3.10/dist-packages (from matplotlib>=3.0.2->plot_metric) (3.1.1)\n",
            "Requirement already satisfied: python-dateutil>=2.7 in /usr/local/lib/python3.10/dist-packages (from matplotlib>=3.0.2->plot_metric) (2.8.2)\n",
            "Requirement already satisfied: pytz>=2020.1 in /usr/local/lib/python3.10/dist-packages (from pandas>=0.23.4->plot_metric) (2023.4)\n",
            "Requirement already satisfied: joblib>=1.1.1 in /usr/local/lib/python3.10/dist-packages (from scikit-learn>=0.21.2->plot_metric) (1.3.2)\n",
            "Requirement already satisfied: threadpoolctl>=2.0.0 in /usr/local/lib/python3.10/dist-packages (from scikit-learn>=0.21.2->plot_metric) (3.2.0)\n",
            "Requirement already satisfied: six>=1.5 in /usr/local/lib/python3.10/dist-packages (from python-dateutil>=2.7->matplotlib>=3.0.2->plot_metric) (1.16.0)\n"
          ]
        }
      ]
    },
    {
      "cell_type": "code",
      "source": [
        "from plot_metric.functions import BinaryClassification\n",
        "import matplotlib.pyplot as plt\n",
        "# Visualisation with plot_metric\n",
        "bc = BinaryClassification(y_test, y_hat, labels=[\"Class 1\", \"Class 2\"])\n",
        "\n",
        "# Figures\n",
        "plt.figure(figsize=(5,5))\n",
        "_,_,_,auc = bc.plot_roc_curve()\n",
        "print(\"AUC:\", auc)\n",
        "plt.show()"
      ],
      "metadata": {
        "colab": {
          "base_uri": "https://localhost:8080/",
          "height": 505
        },
        "id": "rW71lZ6hXiMM",
        "outputId": "5eb38a23-3ab8-4a7b-9a38-0328e60c38ab"
      },
      "execution_count": null,
      "outputs": [
        {
          "output_type": "stream",
          "name": "stdout",
          "text": [
            "AUC: 0.9977954144620811\n"
          ]
        },
        {
          "output_type": "display_data",
          "data": {
            "text/plain": [
              "<Figure size 500x500 with 1 Axes>"
            ],
            "image/png": "[encoded data removed]"
          },
          "metadata": {}
        }
      ]
    },
    {
      "cell_type": "markdown",
      "source": [
        "## Basic Neural Network Example"
      ],
      "metadata": {
        "id": "0ORFeTP0Yu7R"
      }
    },
    {
      "cell_type": "code",
      "execution_count": null,
      "metadata": {
        "id": "k_I4kazT3_3c"
      },
      "outputs": [],
      "source": [
        "from numpy import loadtxt\n",
        "from torch import nn\n",
        "import torch\n",
        "from sklearn.datasets import load_breast_cancer\n",
        "from torch.utils.data import Dataset, DataLoader\n",
        "import sklearn.preprocessing"
      ]
    },
    {
      "cell_type": "code",
      "execution_count": null,
      "metadata": {
        "id": "2rcPG-UX3kkq",
        "colab": {
          "base_uri": "https://localhost:8080/"
        },
        "outputId": "411cf898-337f-4ca6-e5b6-b3f5a223383a"
      },
      "outputs": [
        {
          "output_type": "execute_result",
          "data": {
            "text/plain": [
              "Sequential(\n",
              "  (0): Linear(in_features=30, out_features=64, bias=True)\n",
              "  (1): ReLU()\n",
              "  (2): Linear(in_features=64, out_features=8, bias=True)\n",
              "  (3): ReLU()\n",
              "  (4): Linear(in_features=8, out_features=2, bias=True)\n",
              ")"
            ]
          },
          "metadata": {},
          "execution_count": 325
        }
      ],
      "source": [
        "model_nn = nn.Sequential()\n",
        "model_nn.append(nn.Linear(30, 64))\n",
        "model_nn.append(nn.ReLU())\n",
        "model_nn.append(nn.Linear(64, 8))\n",
        "model_nn.append(nn.ReLU())\n",
        "model_nn.append(nn.Linear(8, 2))"
      ]
    },
    {
      "cell_type": "code",
      "source": [
        "dataset = load_breast_cancer() #Use the Higgs dataset for the hackathon\n",
        "X = dataset[\"data\"]\n",
        "y = dataset[\"target\"]"
      ],
      "metadata": {
        "id": "54Z-3swHePns"
      },
      "execution_count": null,
      "outputs": []
    },
    {
      "cell_type": "code",
      "source": [
        "print(X.shape)\n",
        "print(y.shape)"
      ],
      "metadata": {
        "colab": {
          "base_uri": "https://localhost:8080/"
        },
        "id": "orlS9BCgMCkO",
        "outputId": "df44694c-4619-428c-ad6f-259fcbcb6cd9"
      },
      "execution_count": null,
      "outputs": [
        {
          "output_type": "stream",
          "name": "stdout",
          "text": [
            "(569, 30)\n",
            "(569,)\n"
          ]
        }
      ]
    },
    {
      "cell_type": "code",
      "source": [
        "# Note: The Higgs dataset is already pre-scaled so this step is not necessary\n",
        "# in the actual hackathon\n",
        "scaler = sklearn.preprocessing.StandardScaler()\n",
        "scaler = scaler.fit(X)\n",
        "X = scaler.transform(X)"
      ],
      "metadata": {
        "id": "sI4Z-MvfLzl2"
      },
      "execution_count": null,
      "outputs": []
    },
    {
      "cell_type": "code",
      "source": [
        "print(X.shape)\n",
        "print(y.shape)"
      ],
      "metadata": {
        "colab": {
          "base_uri": "https://localhost:8080/"
        },
        "outputId": "b2776ac8-8a83-4459-a238-fce10b1337d0",
        "id": "dj-_nGd2ePns"
      },
      "execution_count": null,
      "outputs": [
        {
          "output_type": "stream",
          "name": "stdout",
          "text": [
            "(569, 30)\n",
            "(569,)\n"
          ]
        }
      ]
    },
    {
      "cell_type": "code",
      "source": [
        "X_train, X_test1, y_train, y_test1 = train_test_split(X, y, test_size=0.3, random_state=42)\n",
        "X_test, X_val, y_test, y_val = train_test_split(X_test1, y_test1, test_size=0.5, random_state=42)"
      ],
      "metadata": {
        "id": "0PuqNjbeaETc"
      },
      "execution_count": null,
      "outputs": []
    },
    {
      "cell_type": "code",
      "source": [
        "class PytorchDataset(Dataset):\n",
        "    def __init__(self, X, y):\n",
        "        self.X = torch.from_numpy(X.copy()).float()\n",
        "        self.y = torch.from_numpy(y.copy()).long()\n",
        "    def __len__(self):\n",
        "        return len(self.X)\n",
        "    def __getitem__(self, idx):\n",
        "        return self.X[idx], self.y[idx]"
      ],
      "metadata": {
        "id": "yWpqs4K-GP7q"
      },
      "execution_count": null,
      "outputs": []
    },
    {
      "cell_type": "code",
      "source": [
        "train_data = PytorchDataset(X_train, y_train)\n",
        "val_data = PytorchDataset(X_val, y_val)\n",
        "test_data = PytorchDataset(X_test, y_test)\n",
        "\n",
        "train_loader = DataLoader(train_data, batch_size=5, shuffle=True)\n",
        "test_loader = DataLoader(test_data, batch_size=5, shuffle=False)\n",
        "val_loader = DataLoader(val_data, batch_size=5, shuffle=False)"
      ],
      "metadata": {
        "id": "hZZXNE_PGUSI"
      },
      "execution_count": null,
      "outputs": []
    },
    {
      "cell_type": "code",
      "source": [
        "def train_and_validate(train_loader, val_loader, model, optimizer, criterion, metric, num_epochs):\n",
        "    history = {\n",
        "        'epoch': [],\n",
        "        'train_loss': [],\n",
        "        'train_metric': [],\n",
        "        'val_loss': [],\n",
        "        'val_metric': []\n",
        "    }  # Initialize a dictionary to store epoch-wise results\n",
        "\n",
        "    for epoch in range(num_epochs):\n",
        "        model.train()  # Set the model to training mode\n",
        "        epoch_loss = 0.0  # Initialize the epoch loss and metric values\n",
        "        epoch_metric = 0.0\n",
        "\n",
        "        # Training loop\n",
        "        for X, y in train_loader:\n",
        "            optimizer.zero_grad()  # Clear existing gradients\n",
        "            outputs = model(X)  # Make predictions\n",
        "            loss = criterion(outputs, y)  # Compute the loss\n",
        "            loss.backward()  # Compute gradients\n",
        "            optimizer.step()  # Update model parameters\n",
        "\n",
        "            epoch_loss += loss.item()\n",
        "            epoch_metric += metric(outputs, y)\n",
        "\n",
        "        # Average training loss and metric\n",
        "        epoch_loss /= len(train_loader)\n",
        "        epoch_metric /= len(train_loader)\n",
        "\n",
        "        # Validation loop\n",
        "        model.eval()  # Set the model to evaluation mode\n",
        "        with torch.no_grad():  # Disable gradient calculation\n",
        "            val_loss = 0.0\n",
        "            val_metric = 0.0\n",
        "            for X_val, y_val in val_loader:\n",
        "                outputs_val = model(X_val)  # Make predictions\n",
        "                val_loss += criterion(outputs_val, y_val).item()  # Compute loss\n",
        "                val_metric += metric(outputs_val, y_val)\n",
        "\n",
        "            val_loss /= len(val_loader)\n",
        "            val_metric /= len(val_loader)\n",
        "\n",
        "        # Append epoch results to history\n",
        "        history['epoch'].append(epoch_loss)\n",
        "        history['train_loss'].append(epoch_loss)\n",
        "        history['train_metric'].append(epoch_metric)\n",
        "        history['val_loss'].append(val_loss)\n",
        "        history['val_metric'].append(val_metric)\n",
        "\n",
        "        print(f'Epoch [{epoch+1}/{num_epochs}], Train Loss: {epoch_loss:.4f}, '\n",
        "              f'Train Metric: {epoch_metric:.4f}, Val Loss: {val_loss:.4f}, '\n",
        "              f'Val Metric: {val_metric:.4f}')\n",
        "\n",
        "    return history, model"
      ],
      "metadata": {
        "id": "-JCcP-JYFipH"
      },
      "execution_count": null,
      "outputs": []
    },
    {
      "cell_type": "code",
      "source": [
        "criterion = torch.nn.CrossEntropyLoss()\n",
        "optimizer = torch.optim.Adam(model_nn.parameters(), lr=0.001)\n",
        "\n",
        "def accuracy_metric(target, pred):\n",
        "    target = target.argmax(dim=1)\n",
        "    return torch.sum(pred == target).item() / len(pred)"
      ],
      "metadata": {
        "id": "Ev2ZkxlPGEe-"
      },
      "execution_count": null,
      "outputs": []
    },
    {
      "cell_type": "code",
      "execution_count": null,
      "metadata": {
        "colab": {
          "base_uri": "https://localhost:8080/"
        },
        "id": "gDEm75CK3-TT",
        "outputId": "7235d21a-c406-4aa9-b202-7e42b77a134b"
      },
      "outputs": [
        {
          "output_type": "stream",
          "name": "stdout",
          "text": [
            "Epoch [1/20], Train Loss: 0.4495, Train Metric: 0.9050, Val Loss: 0.2023, Val Metric: 0.9556\n",
            "Epoch [2/20], Train Loss: 0.1288, Train Metric: 0.9625, Val Loss: 0.0585, Val Metric: 1.0000\n",
            "Epoch [3/20], Train Loss: 0.0819, Train Metric: 0.9825, Val Loss: 0.0384, Val Metric: 1.0000\n",
            "Epoch [4/20], Train Loss: 0.0666, Train Metric: 0.9825, Val Loss: 0.0379, Val Metric: 0.9889\n",
            "Epoch [5/20], Train Loss: 0.0554, Train Metric: 0.9825, Val Loss: 0.0258, Val Metric: 1.0000\n",
            "Epoch [6/20], Train Loss: 0.0479, Train Metric: 0.9875, Val Loss: 0.0241, Val Metric: 1.0000\n",
            "Epoch [7/20], Train Loss: 0.0416, Train Metric: 0.9900, Val Loss: 0.0178, Val Metric: 1.0000\n",
            "Epoch [8/20], Train Loss: 0.0370, Train Metric: 0.9900, Val Loss: 0.0265, Val Metric: 1.0000\n",
            "Epoch [9/20], Train Loss: 0.0336, Train Metric: 0.9925, Val Loss: 0.0152, Val Metric: 1.0000\n",
            "Epoch [10/20], Train Loss: 0.0296, Train Metric: 0.9925, Val Loss: 0.0133, Val Metric: 1.0000\n",
            "Epoch [11/20], Train Loss: 0.0261, Train Metric: 0.9925, Val Loss: 0.0173, Val Metric: 1.0000\n",
            "Epoch [12/20], Train Loss: 0.0246, Train Metric: 0.9925, Val Loss: 0.0260, Val Metric: 1.0000\n",
            "Epoch [13/20], Train Loss: 0.0210, Train Metric: 0.9950, Val Loss: 0.0110, Val Metric: 1.0000\n",
            "Epoch [14/20], Train Loss: 0.0185, Train Metric: 0.9950, Val Loss: 0.0178, Val Metric: 1.0000\n",
            "Epoch [15/20], Train Loss: 0.0144, Train Metric: 0.9975, Val Loss: 0.0100, Val Metric: 1.0000\n",
            "Epoch [16/20], Train Loss: 0.0160, Train Metric: 0.9925, Val Loss: 0.0140, Val Metric: 1.0000\n",
            "Epoch [17/20], Train Loss: 0.0126, Train Metric: 0.9975, Val Loss: 0.0101, Val Metric: 1.0000\n",
            "Epoch [18/20], Train Loss: 0.0107, Train Metric: 0.9975, Val Loss: 0.0124, Val Metric: 1.0000\n",
            "Epoch [19/20], Train Loss: 0.0111, Train Metric: 0.9975, Val Loss: 0.0168, Val Metric: 1.0000\n",
            "Epoch [20/20], Train Loss: 0.0104, Train Metric: 0.9950, Val Loss: 0.0109, Val Metric: 1.0000\n"
          ]
        }
      ],
      "source": [
        "history, model_nn = train_and_validate(train_loader, val_loader, model_nn,\n",
        "                                       optimizer=optimizer, criterion=criterion,\n",
        "                                       metric=accuracy_metric, num_epochs=20)\n",
        "torch.save(model_nn.state_dict(), \"my_pytorch_model.h5\")##Saving model weights"
      ]
    },
    {
      "cell_type": "code",
      "source": [
        "predictions = model_nn(test_loader.dataset.X).argmax(dim=1)"
      ],
      "metadata": {
        "id": "45eqUaPcab35"
      },
      "execution_count": null,
      "outputs": []
    },
    {
      "cell_type": "code",
      "source": [
        "from plot_metric.functions import BinaryClassification\n",
        "import matplotlib.pyplot as plt\n",
        "# Visualisation with plot_metric\n",
        "bc_nn = BinaryClassification(y_test, predictions, labels=[\"Class 1\", \"Class 2\"])\n",
        "\n",
        "# Figures\n",
        "plt.figure(figsize=(10,5))\n",
        "bc_nn.plot_confusion_matrix()\n",
        "plt.show()"
      ],
      "metadata": {
        "colab": {
          "base_uri": "https://localhost:8080/",
          "height": 526
        },
        "id": "b7IgMy2gaRca",
        "outputId": "f2f06eb7-4a44-4832-8720-c1628b579216"
      },
      "execution_count": null,
      "outputs": [
        {
          "output_type": "display_data",
          "data": {
            "text/plain": [
              "<Figure size 1000x500 with 2 Axes>"
            ],
            "image/png": "[encoded data removed]"
          },
          "metadata": {}
        }
      ]
    },
    {
      "cell_type": "code",
      "source": [
        "_,_,_,auc = bc_nn.plot_roc_curve()\n",
        "print(\"AUC:\", auc)\n",
        "plt.show()"
      ],
      "metadata": {
        "id": "IsO48lXDyq3b",
        "outputId": "94537996-6683-469f-bc06-46c25d1921d7",
        "colab": {
          "base_uri": "https://localhost:8080/",
          "height": 490
        }
      },
      "execution_count": null,
      "outputs": [
        {
          "output_type": "stream",
          "name": "stdout",
          "text": [
            "AUC: 0.9760698198198198\n"
          ]
        },
        {
          "output_type": "display_data",
          "data": {
            "text/plain": [
              "<Figure size 640x480 with 1 Axes>"
            ],
            "image/png": "[encoded data removed]"
          },
          "metadata": {}
        }
      ]
    }
  ],
  "metadata": {
    "accelerator": "GPU",
    "colab": {
      "provenance": [],
      "include_colab_link": true
    },
    "kernelspec": {
      "display_name": "Python 3",
      "language": "python",
      "name": "python3"
    },
    "language_info": {
      "codemirror_mode": {
        "name": "ipython",
        "version": 3
      },
      "file_extension": ".py",
      "mimetype": "text/x-python",
      "name": "python",
      "nbconvert_exporter": "python",
      "pygments_lexer": "ipython3",
      "version": "3.8.5"
    },
    "latex_envs": {
      "LaTeX_envs_menu_present": true,
      "autoclose": false,
      "autocomplete": true,
      "bibliofile": "biblio.bib",
      "cite_by": "apalike",
      "current_citInitial": 1,
      "eqLabelWithNumbers": true,
      "eqNumInitial": 1,
      "hotkeys": {
        "equation": "Ctrl-E",
        "itemize": "Ctrl-I"
      },
      "labels_anchors": false,
      "latex_user_defs": false,
      "report_style_numbering": false,
      "user_envs_cfg": false
    }
  },
  "nbformat": 4,
  "nbformat_minor": 0
}